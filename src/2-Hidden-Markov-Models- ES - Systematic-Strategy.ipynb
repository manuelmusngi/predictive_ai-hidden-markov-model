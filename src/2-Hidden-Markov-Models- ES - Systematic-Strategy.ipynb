{
 "cells": [
  {
   "cell_type": "markdown",
   "id": "c36ad39f",
   "metadata": {},
   "source": [
    "#### Library Dependencies"
   ]
  },
  {
   "cell_type": "code",
   "execution_count": 1,
   "id": "93dcfc75",
   "metadata": {},
   "outputs": [],
   "source": [
    "import pandas as pd\n",
    "import numpy as np\n",
    "\n",
    "from pyhhmm.gaussian import GaussianHMM\n",
    "import yfinance as yf\n",
    "\n",
    "import matplotlib.pyplot as plt"
   ]
  },
  {
   "cell_type": "markdown",
   "id": "d5ebd3de",
   "metadata": {},
   "source": [
    "#### Import Data Structure"
   ]
  },
  {
   "cell_type": "code",
   "execution_count": 2,
   "id": "e9605a14",
   "metadata": {},
   "outputs": [
    {
     "name": "stdout",
     "output_type": "stream",
     "text": [
      "[*********************100%***********************]  1 of 1 completed\n"
     ]
    }
   ],
   "source": [
    "# Data Import\n",
    "start_date = \"2017-01-1\"\n",
    "end_date = \"2022-06-1\"\n",
    "symbol = \"ES=F\"\n",
    "data = yf.download(symbol, start_date, end_date)"
   ]
  },
  {
   "cell_type": "markdown",
   "id": "f7188b25",
   "metadata": {},
   "source": [
    "#### Feature Engineering"
   ]
  },
  {
   "cell_type": "code",
   "execution_count": 3,
   "id": "dbe8e79d",
   "metadata": {},
   "outputs": [
    {
     "name": "stdout",
     "output_type": "stream",
     "text": [
      "Length:  1362\n"
     ]
    },
    {
     "data": {
      "text/html": [
       "<div>\n",
       "<style scoped>\n",
       "    .dataframe tbody tr th:only-of-type {\n",
       "        vertical-align: middle;\n",
       "    }\n",
       "\n",
       "    .dataframe tbody tr th {\n",
       "        vertical-align: top;\n",
       "    }\n",
       "\n",
       "    .dataframe thead th {\n",
       "        text-align: right;\n",
       "    }\n",
       "</style>\n",
       "<table border=\"1\" class=\"dataframe\">\n",
       "  <thead>\n",
       "    <tr style=\"text-align: right;\">\n",
       "      <th></th>\n",
       "      <th>Open</th>\n",
       "      <th>High</th>\n",
       "      <th>Low</th>\n",
       "      <th>Close</th>\n",
       "      <th>Adj Close</th>\n",
       "      <th>Volume</th>\n",
       "      <th>Returns</th>\n",
       "      <th>Volatility</th>\n",
       "    </tr>\n",
       "    <tr>\n",
       "      <th>Date</th>\n",
       "      <th></th>\n",
       "      <th></th>\n",
       "      <th></th>\n",
       "      <th></th>\n",
       "      <th></th>\n",
       "      <th></th>\n",
       "      <th></th>\n",
       "      <th></th>\n",
       "    </tr>\n",
       "  </thead>\n",
       "  <tbody>\n",
       "    <tr>\n",
       "      <th>2017-01-04 00:00:00-05:00</th>\n",
       "      <td>2252.75</td>\n",
       "      <td>2267.25</td>\n",
       "      <td>2251.00</td>\n",
       "      <td>2264.25</td>\n",
       "      <td>2264.25</td>\n",
       "      <td>1404875</td>\n",
       "      <td>0.005216</td>\n",
       "      <td>0.007219</td>\n",
       "    </tr>\n",
       "    <tr>\n",
       "      <th>2017-01-05 00:00:00-05:00</th>\n",
       "      <td>2264.50</td>\n",
       "      <td>2266.00</td>\n",
       "      <td>2254.00</td>\n",
       "      <td>2264.25</td>\n",
       "      <td>2264.25</td>\n",
       "      <td>1324035</td>\n",
       "      <td>0.000000</td>\n",
       "      <td>0.005324</td>\n",
       "    </tr>\n",
       "    <tr>\n",
       "      <th>2017-01-06 00:00:00-05:00</th>\n",
       "      <td>2264.25</td>\n",
       "      <td>2277.00</td>\n",
       "      <td>2258.25</td>\n",
       "      <td>2271.50</td>\n",
       "      <td>2271.50</td>\n",
       "      <td>1551007</td>\n",
       "      <td>0.003202</td>\n",
       "      <td>0.008303</td>\n",
       "    </tr>\n",
       "    <tr>\n",
       "      <th>2017-01-09 00:00:00-05:00</th>\n",
       "      <td>2271.25</td>\n",
       "      <td>2275.25</td>\n",
       "      <td>2263.50</td>\n",
       "      <td>2265.00</td>\n",
       "      <td>2265.00</td>\n",
       "      <td>1025182</td>\n",
       "      <td>-0.002862</td>\n",
       "      <td>0.005191</td>\n",
       "    </tr>\n",
       "    <tr>\n",
       "      <th>2017-01-10 00:00:00-05:00</th>\n",
       "      <td>2264.50</td>\n",
       "      <td>2274.00</td>\n",
       "      <td>2259.50</td>\n",
       "      <td>2263.75</td>\n",
       "      <td>2263.75</td>\n",
       "      <td>1304523</td>\n",
       "      <td>-0.000552</td>\n",
       "      <td>0.006417</td>\n",
       "    </tr>\n",
       "  </tbody>\n",
       "</table>\n",
       "</div>"
      ],
      "text/plain": [
       "                              Open     High      Low    Close  Adj Close  \\\n",
       "Date                                                                       \n",
       "2017-01-04 00:00:00-05:00  2252.75  2267.25  2251.00  2264.25    2264.25   \n",
       "2017-01-05 00:00:00-05:00  2264.50  2266.00  2254.00  2264.25    2264.25   \n",
       "2017-01-06 00:00:00-05:00  2264.25  2277.00  2258.25  2271.50    2271.50   \n",
       "2017-01-09 00:00:00-05:00  2271.25  2275.25  2263.50  2265.00    2265.00   \n",
       "2017-01-10 00:00:00-05:00  2264.50  2274.00  2259.50  2263.75    2263.75   \n",
       "\n",
       "                            Volume   Returns  Volatility  \n",
       "Date                                                      \n",
       "2017-01-04 00:00:00-05:00  1404875  0.005216    0.007219  \n",
       "2017-01-05 00:00:00-05:00  1324035  0.000000    0.005324  \n",
       "2017-01-06 00:00:00-05:00  1551007  0.003202    0.008303  \n",
       "2017-01-09 00:00:00-05:00  1025182 -0.002862    0.005191  \n",
       "2017-01-10 00:00:00-05:00  1304523 -0.000552    0.006417  "
      ]
     },
     "execution_count": 3,
     "metadata": {},
     "output_type": "execute_result"
    }
   ],
   "source": [
    "# Returns and Volatility Features \n",
    "df = data.copy()\n",
    "df[\"Returns\"] = (df[\"Adj Close\"] / df[\"Adj Close\"].shift(1)) - 1\n",
    "df[\"Volatility\"] = (df[\"High\"] / df[\"Low\"]) - 1\n",
    "df.dropna(inplace=True)\n",
    "print(\"Length: \", len(df))\n",
    "df.head()"
   ]
  },
  {
   "cell_type": "code",
   "execution_count": 4,
   "id": "3a3f105f",
   "metadata": {},
   "outputs": [],
   "source": [
    "# Moving Average Features\n",
    "df[\"MA_9\"] = df[\"Adj Close\"].rolling(window=9).mean()\n",
    "df[\"MA_21\"] = df[\"Adj Close\"].rolling(window=21).mean()"
   ]
  },
  {
   "cell_type": "markdown",
   "id": "8c082c25",
   "metadata": {},
   "source": [
    "#### Training and Test Data"
   ]
  },
  {
   "cell_type": "code",
   "execution_count": 5,
   "id": "f0482185",
   "metadata": {},
   "outputs": [
    {
     "name": "stdout",
     "output_type": "stream",
     "text": [
      "Train Length:  500\n",
      "Test Length:  862\n",
      "X_train From:  2017-01-04 00:00:00-05:00\n",
      "X_train To:  2018-12-28 00:00:00-05:00\n",
      "X_test From:  2018-12-31 00:00:00-05:00\n",
      "X_test To:  2022-05-31 00:00:00-04:00\n"
     ]
    }
   ],
   "source": [
    "# Structure Data for Training and Testing\n",
    "X_train = df[[\"Returns\", \"Volatility\"]].iloc[:500] \n",
    "X_test = df[[\"Returns\", \"Volatility\"]].iloc[500:] \n",
    "save_df = df.iloc[500:]\n",
    "\n",
    "print(\"Train Length: \", len(X_train))\n",
    "print(\"Test Length: \", len(X_test))\n",
    "print(\"X_train From: \", X_train.head(1).index.item())\n",
    "print(\"X_train To: \", X_train.tail(1).index.item())\n",
    "print(\"X_test From: \", X_test.head(1).index.item())\n",
    "print(\"X_test To: \", X_test.tail(1).index.item())"
   ]
  },
  {
   "cell_type": "markdown",
   "id": "8756ced0",
   "metadata": {},
   "source": [
    "#### Hidden Markov Model Statistical Learning"
   ]
  },
  {
   "cell_type": "code",
   "execution_count": 6,
   "id": "0c71b4b4",
   "metadata": {},
   "outputs": [
    {
     "data": {
      "text/plain": [
       "array([0, 0, 0, 3, 3, 0, 3, 0, 3, 0])"
      ]
     },
     "execution_count": 6,
     "metadata": {},
     "output_type": "execute_result"
    }
   ],
   "source": [
    "# HMM Training\n",
    "hmm_model = GaussianHMM(n_states=4, covariance_type='full', n_emissions=2)\n",
    "hmm_model.train([np.array(X_train.values)])\n",
    "hmm_model.predict([X_train.values])[0][:10]"
   ]
  },
  {
   "cell_type": "code",
   "execution_count": 7,
   "id": "23746516",
   "metadata": {},
   "outputs": [
    {
     "data": {
      "text/html": [
       "<div>\n",
       "<style scoped>\n",
       "    .dataframe tbody tr th:only-of-type {\n",
       "        vertical-align: middle;\n",
       "    }\n",
       "\n",
       "    .dataframe tbody tr th {\n",
       "        vertical-align: top;\n",
       "    }\n",
       "\n",
       "    .dataframe thead th {\n",
       "        text-align: right;\n",
       "    }\n",
       "</style>\n",
       "<table border=\"1\" class=\"dataframe\">\n",
       "  <thead>\n",
       "    <tr style=\"text-align: right;\">\n",
       "      <th></th>\n",
       "      <th>Open</th>\n",
       "      <th>Close</th>\n",
       "      <th>Adj Close</th>\n",
       "      <th>Volume</th>\n",
       "      <th>Returns</th>\n",
       "      <th>Volatility</th>\n",
       "      <th>MA_9</th>\n",
       "      <th>MA_21</th>\n",
       "      <th>HMM</th>\n",
       "    </tr>\n",
       "    <tr>\n",
       "      <th>Date</th>\n",
       "      <th></th>\n",
       "      <th></th>\n",
       "      <th></th>\n",
       "      <th></th>\n",
       "      <th></th>\n",
       "      <th></th>\n",
       "      <th></th>\n",
       "      <th></th>\n",
       "      <th></th>\n",
       "    </tr>\n",
       "  </thead>\n",
       "  <tbody>\n",
       "    <tr>\n",
       "      <th>2018-12-31 00:00:00-05:00</th>\n",
       "      <td>2495.50</td>\n",
       "      <td>2505.25</td>\n",
       "      <td>2505.25</td>\n",
       "      <td>1414594</td>\n",
       "      <td>0.007743</td>\n",
       "      <td>0.012184</td>\n",
       "      <td>2476.833333</td>\n",
       "      <td>2588.107143</td>\n",
       "      <td>0</td>\n",
       "    </tr>\n",
       "    <tr>\n",
       "      <th>2019-01-02 00:00:00-05:00</th>\n",
       "      <td>2508.00</td>\n",
       "      <td>2511.00</td>\n",
       "      <td>2511.00</td>\n",
       "      <td>1969697</td>\n",
       "      <td>0.002295</td>\n",
       "      <td>0.028137</td>\n",
       "      <td>2474.083333</td>\n",
       "      <td>2577.000000</td>\n",
       "      <td>2</td>\n",
       "    </tr>\n",
       "    <tr>\n",
       "      <th>2019-01-03 00:00:00-05:00</th>\n",
       "      <td>2482.25</td>\n",
       "      <td>2447.75</td>\n",
       "      <td>2447.75</td>\n",
       "      <td>2257341</td>\n",
       "      <td>-0.025189</td>\n",
       "      <td>0.020567</td>\n",
       "      <td>2467.916667</td>\n",
       "      <td>2562.214286</td>\n",
       "      <td>1</td>\n",
       "    </tr>\n",
       "    <tr>\n",
       "      <th>2019-01-04 00:00:00-05:00</th>\n",
       "      <td>2451.75</td>\n",
       "      <td>2531.25</td>\n",
       "      <td>2531.25</td>\n",
       "      <td>2350836</td>\n",
       "      <td>0.034113</td>\n",
       "      <td>0.041316</td>\n",
       "      <td>2472.972222</td>\n",
       "      <td>2549.857143</td>\n",
       "      <td>2</td>\n",
       "    </tr>\n",
       "    <tr>\n",
       "      <th>2019-01-07 00:00:00-05:00</th>\n",
       "      <td>2537.25</td>\n",
       "      <td>2550.50</td>\n",
       "      <td>2550.50</td>\n",
       "      <td>1632131</td>\n",
       "      <td>0.007605</td>\n",
       "      <td>0.017537</td>\n",
       "      <td>2482.166667</td>\n",
       "      <td>2542.654762</td>\n",
       "      <td>3</td>\n",
       "    </tr>\n",
       "  </tbody>\n",
       "</table>\n",
       "</div>"
      ],
      "text/plain": [
       "                              Open    Close  Adj Close   Volume   Returns  \\\n",
       "Date                                                                        \n",
       "2018-12-31 00:00:00-05:00  2495.50  2505.25    2505.25  1414594  0.007743   \n",
       "2019-01-02 00:00:00-05:00  2508.00  2511.00    2511.00  1969697  0.002295   \n",
       "2019-01-03 00:00:00-05:00  2482.25  2447.75    2447.75  2257341 -0.025189   \n",
       "2019-01-04 00:00:00-05:00  2451.75  2531.25    2531.25  2350836  0.034113   \n",
       "2019-01-07 00:00:00-05:00  2537.25  2550.50    2550.50  1632131  0.007605   \n",
       "\n",
       "                           Volatility         MA_9        MA_21  HMM  \n",
       "Date                                                                  \n",
       "2018-12-31 00:00:00-05:00    0.012184  2476.833333  2588.107143    0  \n",
       "2019-01-02 00:00:00-05:00    0.028137  2474.083333  2577.000000    2  \n",
       "2019-01-03 00:00:00-05:00    0.020567  2467.916667  2562.214286    1  \n",
       "2019-01-04 00:00:00-05:00    0.041316  2472.972222  2549.857143    2  \n",
       "2019-01-07 00:00:00-05:00    0.017537  2482.166667  2542.654762    3  "
      ]
     },
     "execution_count": 7,
     "metadata": {},
     "output_type": "execute_result"
    }
   ],
   "source": [
    "# Test Data Prediction \n",
    "df_main = save_df.copy()\n",
    "df_main.drop(columns=[\"High\", \"Low\"], inplace=True)\n",
    "\n",
    "hmm_results = hmm_model.predict([X_test.values])[0]\n",
    "df_main[\"HMM\"] = hmm_results\n",
    "df_main.head()"
   ]
  },
  {
   "cell_type": "markdown",
   "id": "00c635e5",
   "metadata": {},
   "source": [
    "#### Systematic Strategy Backtesting"
   ]
  },
  {
   "cell_type": "code",
   "execution_count": 8,
   "id": "9314180e",
   "metadata": {},
   "outputs": [],
   "source": [
    "# Moving Average Signals\n",
    "df_main.loc[df_main[\"MA_9\"] > df_main[\"MA_21\"], \"MA_Signal\"] = 1\n",
    "df_main.loc[df_main[\"MA_9\"] <= df_main[\"MA_21\"], \"MA_Signal\"] = 0"
   ]
  },
  {
   "cell_type": "code",
   "execution_count": 9,
   "id": "b2099627",
   "metadata": {},
   "outputs": [],
   "source": [
    "# Hidden Markov Model Signals\n",
    "favorable_states = [0, 1]\n",
    "hmm_values = df_main[\"HMM\"].values\n",
    "hmm_values = [1 if x in favorable_states else 0 for x in hmm_values]\n",
    "df_main[\"HMM_Signal\"] = hmm_values"
   ]
  },
  {
   "cell_type": "code",
   "execution_count": 10,
   "id": "97bb42c7",
   "metadata": {},
   "outputs": [],
   "source": [
    "# Signal Combination\n",
    "df_main[\"Main_Signal\"] = 0\n",
    "df_main.loc[(df_main[\"MA_Signal\"] == 1) & (df_main[\"HMM_Signal\"] == 1), \"Main_Signal\"] = 1\n",
    "df_main[\"Main_Signal\"] = df_main[\"Main_Signal\"].shift(1)"
   ]
  },
  {
   "cell_type": "code",
   "execution_count": 11,
   "id": "418d4b5f",
   "metadata": {},
   "outputs": [],
   "source": [
    "# Benchmark Returns\n",
    "df_main[\"benchmark_log_return\"] = np.log(df_main[\"Adj Close\"] / df_main[\"Adj Close\"].shift(1))\n",
    "df_main[\"benchmark_cumulative\"] = df_main[\"benchmark_log_return\"].cumsum()\n",
    "df_main[\"benchmark_cumulative_expo\"] = np.exp(df_main[\"benchmark_cumulative\"]) - 1"
   ]
  },
  {
   "cell_type": "code",
   "execution_count": 12,
   "id": "1d94f2a3",
   "metadata": {},
   "outputs": [],
   "source": [
    "# Strategy Returns\n",
    "df_main[\"strategy_log_return\"] = np.log(df_main[\"Open\"].shift(-1) / df_main[\"Open\"]) * df_main[\"Main_Signal\"]\n",
    "df_main[\"strategy_cumulative\"] = df_main[\"strategy_log_return\"].cumsum()\n",
    "df_main[\"strategy_cumulative_expo\"] = np.exp(df_main[\"strategy_cumulative\"]) - 1"
   ]
  },
  {
   "cell_type": "code",
   "execution_count": 13,
   "id": "da290628",
   "metadata": {},
   "outputs": [
    {
     "data": {
      "text/html": [
       "<div>\n",
       "<style scoped>\n",
       "    .dataframe tbody tr th:only-of-type {\n",
       "        vertical-align: middle;\n",
       "    }\n",
       "\n",
       "    .dataframe tbody tr th {\n",
       "        vertical-align: top;\n",
       "    }\n",
       "\n",
       "    .dataframe thead th {\n",
       "        text-align: right;\n",
       "    }\n",
       "</style>\n",
       "<table border=\"1\" class=\"dataframe\">\n",
       "  <thead>\n",
       "    <tr style=\"text-align: right;\">\n",
       "      <th></th>\n",
       "      <th>Open</th>\n",
       "      <th>Close</th>\n",
       "      <th>Adj Close</th>\n",
       "      <th>Volume</th>\n",
       "      <th>Returns</th>\n",
       "      <th>Volatility</th>\n",
       "      <th>MA_9</th>\n",
       "      <th>MA_21</th>\n",
       "      <th>HMM</th>\n",
       "      <th>MA_Signal</th>\n",
       "      <th>HMM_Signal</th>\n",
       "      <th>Main_Signal</th>\n",
       "      <th>benchmark_log_return</th>\n",
       "      <th>benchmark_cumulative</th>\n",
       "      <th>benchmark_cumulative_expo</th>\n",
       "      <th>strategy_log_return</th>\n",
       "      <th>strategy_cumulative</th>\n",
       "      <th>strategy_cumulative_expo</th>\n",
       "    </tr>\n",
       "    <tr>\n",
       "      <th>Date</th>\n",
       "      <th></th>\n",
       "      <th></th>\n",
       "      <th></th>\n",
       "      <th></th>\n",
       "      <th></th>\n",
       "      <th></th>\n",
       "      <th></th>\n",
       "      <th></th>\n",
       "      <th></th>\n",
       "      <th></th>\n",
       "      <th></th>\n",
       "      <th></th>\n",
       "      <th></th>\n",
       "      <th></th>\n",
       "      <th></th>\n",
       "      <th></th>\n",
       "      <th></th>\n",
       "      <th></th>\n",
       "    </tr>\n",
       "  </thead>\n",
       "  <tbody>\n",
       "    <tr>\n",
       "      <th>2022-05-23 00:00:00-04:00</th>\n",
       "      <td>3910.50</td>\n",
       "      <td>3971.75</td>\n",
       "      <td>3971.75</td>\n",
       "      <td>1736162</td>\n",
       "      <td>0.018528</td>\n",
       "      <td>0.019391</td>\n",
       "      <td>3962.055556</td>\n",
       "      <td>4075.023810</td>\n",
       "      <td>1</td>\n",
       "      <td>0.0</td>\n",
       "      <td>1</td>\n",
       "      <td>0.0</td>\n",
       "      <td>0.018358</td>\n",
       "      <td>0.460818</td>\n",
       "      <td>0.585371</td>\n",
       "      <td>0.0</td>\n",
       "      <td>0.079396</td>\n",
       "      <td>0.082633</td>\n",
       "    </tr>\n",
       "    <tr>\n",
       "      <th>2022-05-24 00:00:00-04:00</th>\n",
       "      <td>3951.75</td>\n",
       "      <td>3940.50</td>\n",
       "      <td>3940.50</td>\n",
       "      <td>2017453</td>\n",
       "      <td>-0.007868</td>\n",
       "      <td>0.021307</td>\n",
       "      <td>3963.194444</td>\n",
       "      <td>4058.250000</td>\n",
       "      <td>2</td>\n",
       "      <td>0.0</td>\n",
       "      <td>0</td>\n",
       "      <td>0.0</td>\n",
       "      <td>-0.007899</td>\n",
       "      <td>0.452919</td>\n",
       "      <td>0.572897</td>\n",
       "      <td>-0.0</td>\n",
       "      <td>0.079396</td>\n",
       "      <td>0.082633</td>\n",
       "    </tr>\n",
       "    <tr>\n",
       "      <th>2022-05-25 00:00:00-04:00</th>\n",
       "      <td>3950.00</td>\n",
       "      <td>3976.75</td>\n",
       "      <td>3976.75</td>\n",
       "      <td>1744116</td>\n",
       "      <td>0.009199</td>\n",
       "      <td>0.021528</td>\n",
       "      <td>3968.694444</td>\n",
       "      <td>4049.023810</td>\n",
       "      <td>1</td>\n",
       "      <td>0.0</td>\n",
       "      <td>1</td>\n",
       "      <td>0.0</td>\n",
       "      <td>0.009157</td>\n",
       "      <td>0.462076</td>\n",
       "      <td>0.587367</td>\n",
       "      <td>0.0</td>\n",
       "      <td>0.079396</td>\n",
       "      <td>0.082633</td>\n",
       "    </tr>\n",
       "    <tr>\n",
       "      <th>2022-05-26 00:00:00-04:00</th>\n",
       "      <td>3972.25</td>\n",
       "      <td>4055.75</td>\n",
       "      <td>4055.75</td>\n",
       "      <td>1493132</td>\n",
       "      <td>0.019865</td>\n",
       "      <td>0.028532</td>\n",
       "      <td>3972.694444</td>\n",
       "      <td>4043.095238</td>\n",
       "      <td>2</td>\n",
       "      <td>0.0</td>\n",
       "      <td>0</td>\n",
       "      <td>0.0</td>\n",
       "      <td>0.019671</td>\n",
       "      <td>0.481747</td>\n",
       "      <td>0.618900</td>\n",
       "      <td>0.0</td>\n",
       "      <td>0.079396</td>\n",
       "      <td>0.082633</td>\n",
       "    </tr>\n",
       "    <tr>\n",
       "      <th>2022-05-27 00:00:00-04:00</th>\n",
       "      <td>4047.50</td>\n",
       "      <td>4155.75</td>\n",
       "      <td>4155.75</td>\n",
       "      <td>1547507</td>\n",
       "      <td>0.024656</td>\n",
       "      <td>0.031426</td>\n",
       "      <td>3989.472222</td>\n",
       "      <td>4037.011905</td>\n",
       "      <td>1</td>\n",
       "      <td>0.0</td>\n",
       "      <td>1</td>\n",
       "      <td>0.0</td>\n",
       "      <td>0.024357</td>\n",
       "      <td>0.506104</td>\n",
       "      <td>0.658816</td>\n",
       "      <td>0.0</td>\n",
       "      <td>0.079396</td>\n",
       "      <td>0.082633</td>\n",
       "    </tr>\n",
       "  </tbody>\n",
       "</table>\n",
       "</div>"
      ],
      "text/plain": [
       "                              Open    Close  Adj Close   Volume   Returns  \\\n",
       "Date                                                                        \n",
       "2022-05-23 00:00:00-04:00  3910.50  3971.75    3971.75  1736162  0.018528   \n",
       "2022-05-24 00:00:00-04:00  3951.75  3940.50    3940.50  2017453 -0.007868   \n",
       "2022-05-25 00:00:00-04:00  3950.00  3976.75    3976.75  1744116  0.009199   \n",
       "2022-05-26 00:00:00-04:00  3972.25  4055.75    4055.75  1493132  0.019865   \n",
       "2022-05-27 00:00:00-04:00  4047.50  4155.75    4155.75  1547507  0.024656   \n",
       "\n",
       "                           Volatility         MA_9        MA_21  HMM  \\\n",
       "Date                                                                   \n",
       "2022-05-23 00:00:00-04:00    0.019391  3962.055556  4075.023810    1   \n",
       "2022-05-24 00:00:00-04:00    0.021307  3963.194444  4058.250000    2   \n",
       "2022-05-25 00:00:00-04:00    0.021528  3968.694444  4049.023810    1   \n",
       "2022-05-26 00:00:00-04:00    0.028532  3972.694444  4043.095238    2   \n",
       "2022-05-27 00:00:00-04:00    0.031426  3989.472222  4037.011905    1   \n",
       "\n",
       "                           MA_Signal  HMM_Signal  Main_Signal  \\\n",
       "Date                                                            \n",
       "2022-05-23 00:00:00-04:00        0.0           1          0.0   \n",
       "2022-05-24 00:00:00-04:00        0.0           0          0.0   \n",
       "2022-05-25 00:00:00-04:00        0.0           1          0.0   \n",
       "2022-05-26 00:00:00-04:00        0.0           0          0.0   \n",
       "2022-05-27 00:00:00-04:00        0.0           1          0.0   \n",
       "\n",
       "                           benchmark_log_return  benchmark_cumulative  \\\n",
       "Date                                                                    \n",
       "2022-05-23 00:00:00-04:00              0.018358              0.460818   \n",
       "2022-05-24 00:00:00-04:00             -0.007899              0.452919   \n",
       "2022-05-25 00:00:00-04:00              0.009157              0.462076   \n",
       "2022-05-26 00:00:00-04:00              0.019671              0.481747   \n",
       "2022-05-27 00:00:00-04:00              0.024357              0.506104   \n",
       "\n",
       "                           benchmark_cumulative_expo  strategy_log_return  \\\n",
       "Date                                                                        \n",
       "2022-05-23 00:00:00-04:00                   0.585371                  0.0   \n",
       "2022-05-24 00:00:00-04:00                   0.572897                 -0.0   \n",
       "2022-05-25 00:00:00-04:00                   0.587367                  0.0   \n",
       "2022-05-26 00:00:00-04:00                   0.618900                  0.0   \n",
       "2022-05-27 00:00:00-04:00                   0.658816                  0.0   \n",
       "\n",
       "                           strategy_cumulative  strategy_cumulative_expo  \n",
       "Date                                                                      \n",
       "2022-05-23 00:00:00-04:00             0.079396                  0.082633  \n",
       "2022-05-24 00:00:00-04:00             0.079396                  0.082633  \n",
       "2022-05-25 00:00:00-04:00             0.079396                  0.082633  \n",
       "2022-05-26 00:00:00-04:00             0.079396                  0.082633  \n",
       "2022-05-27 00:00:00-04:00             0.079396                  0.082633  "
      ]
     },
     "execution_count": 13,
     "metadata": {},
     "output_type": "execute_result"
    }
   ],
   "source": [
    "# Examine Results\n",
    "df_main.dropna(inplace=True)\n",
    "df_main.tail()"
   ]
  },
  {
   "cell_type": "markdown",
   "id": "799603e7",
   "metadata": {},
   "source": [
    "#### Systematic Strategy Metrics"
   ]
  },
  {
   "cell_type": "code",
   "execution_count": 14,
   "id": "18b5b297",
   "metadata": {},
   "outputs": [],
   "source": [
    "# Sharpe Ratio Function\n",
    "def sharpe_ratio(returns_series):\n",
    "    N = 255\n",
    "    NSQRT = np.sqrt(N)\n",
    "    rf = 0.01\n",
    "    mean = returns_series.mean() * N\n",
    "    sigma = returns_series.std() * NSQRT\n",
    "    sharpe_ratio = round((mean - rf) / sigma, 2)\n",
    "    return sharpe_ratio"
   ]
  },
  {
   "cell_type": "code",
   "execution_count": 15,
   "id": "f241e439",
   "metadata": {},
   "outputs": [],
   "source": [
    "# Benchmark Metrics\n",
    "benchmark_return = round(df_main[\"benchmark_cumulative_expo\"].values[-1] * 100, 1)\n",
    "benchmark_sharpe = sharpe_ratio(df_main[\"benchmark_log_return\"].values)\n",
    "\n",
    "# Strategy Metrics\n",
    "strategy_return = round(df_main[\"strategy_cumulative_expo\"].values[-1] * 100, 1)\n",
    "strategy_sharpe = sharpe_ratio(df_main[\"strategy_log_return\"].values)"
   ]
  },
  {
   "cell_type": "code",
   "execution_count": 16,
   "id": "271cc940",
   "metadata": {},
   "outputs": [
    {
     "name": "stdout",
     "output_type": "stream",
     "text": [
      "Benchmark Returns: 65.9%\n",
      "Benchmark Sharpe: 0.62\n",
      "--------------------------\n",
      "Strategy Returns: 8.3%\n",
      "Strategy Sharpe: 0.16\n"
     ]
    }
   ],
   "source": [
    "# Print Metrics\n",
    "print(f\"Benchmark Returns: {benchmark_return}%\")\n",
    "print(f\"Benchmark Sharpe: {benchmark_sharpe}\")\n",
    "print(\"--------------------------\")\n",
    "print(f\"Strategy Returns: {strategy_return}%\")\n",
    "print(f\"Strategy Sharpe: {strategy_sharpe}\")"
   ]
  },
  {
   "cell_type": "markdown",
   "id": "c92cc83e",
   "metadata": {},
   "source": [
    "#### Systematic Strategy Performance Inference"
   ]
  },
  {
   "cell_type": "code",
   "execution_count": 17,
   "id": "9c2c03e3",
   "metadata": {},
   "outputs": [
    {
     "data": {
      "image/png": "[encoded data removed]",
      "text/plain": [
       "<Figure size 1800x1000 with 1 Axes>"
      ]
     },
     "metadata": {},
     "output_type": "display_data"
    }
   ],
   "source": [
    "# Equity Curve \n",
    "fig = plt.figure(figsize = (18, 10))\n",
    "plt.plot(df_main[\"benchmark_cumulative_expo\"])\n",
    "plt.plot(df_main[\"strategy_cumulative_expo\"])\n",
    "plt.show()"
   ]
  }
 ],
 "metadata": {
  "kernelspec": {
   "display_name": "Python 3 (ipykernel)",
   "language": "python",
   "name": "python3"
  },
  "language_info": {
   "codemirror_mode": {
    "name": "ipython",
    "version": 3
   },
   "file_extension": ".py",
   "mimetype": "text/x-python",
   "name": "python",
   "nbconvert_exporter": "python",
   "pygments_lexer": "ipython3",
   "version": "3.9.16"
  }
 },
 "nbformat": 4,
 "nbformat_minor": 5
}
